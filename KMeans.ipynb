{
 "cells": [
  {
   "cell_type": "code",
   "execution_count": 2,
   "id": "c6fb113d",
   "metadata": {},
   "outputs": [],
   "source": [
    "from pyspark import SparkConf , SparkContext\n",
    "sc.stop()\n",
    "conf = SparkConf().setMaster(\"local\").setAppName(\"wordcount\")\n",
    "sc = SparkContext(conf = conf)\n",
    "sc\n",
    "\n",
    "def mapper1try(line):\n",
    "        wordlist = line.split(\" \")\n",
    "        newitem = []\n",
    "        maplist = []\n",
    "        maplist.append(wordlist)\n",
    "        return maplist\n",
    "\n",
    "def change(line):\n",
    "    mapp = []\n",
    "    for i in line:\n",
    "        i = float(i)\n",
    "        mapp.append(i)\n",
    "    return mapp"
   ]
  },
  {
   "cell_type": "code",
   "execution_count": 4,
   "id": "366dd276",
   "metadata": {},
   "outputs": [],
   "source": [
    "inf = float(\"inf\")"
   ]
  },
  {
   "cell_type": "code",
   "execution_count": 3,
   "id": "3144000c",
   "metadata": {},
   "outputs": [],
   "source": [
    "lines1 = sc.textFile(\"/Users/huangyushu/Desktop/hw3-kmeans-testcase/data.txt\").flatMap(mapper1try)"
   ]
  },
  {
   "cell_type": "code",
   "execution_count": 5,
   "id": "7b27bd00",
   "metadata": {},
   "outputs": [],
   "source": [
    "lines2 = lines1.map(change)"
   ]
  },
  {
   "cell_type": "code",
   "execution_count": 112,
   "id": "ec4f67d5",
   "metadata": {},
   "outputs": [],
   "source": [
    "c1= sc.textFile(\"/Users/huangyushu/Desktop/hw3-kmeans-testcase/c1.txt\").flatMap(mapper1try)\n",
    "c1 = c1.map(change)"
   ]
  },
  {
   "cell_type": "code",
   "execution_count": 7,
   "id": "bf4edbee",
   "metadata": {},
   "outputs": [],
   "source": [
    "def dis(a, b):\n",
    "    sum = 0\n",
    "    for i,j in zip(a,b):\n",
    "#         print (i)\n",
    "        sum = sum+((i-j)**2)\n",
    "#         print(sum)\n",
    "    sum  = sum**0.5\n",
    "    \n",
    "    return sum"
   ]
  },
  {
   "cell_type": "code",
   "execution_count": 107,
   "id": "b4d4635c",
   "metadata": {},
   "outputs": [],
   "source": [
    "def dis2(a, b):\n",
    "    sum = 0\n",
    "    for i,j in zip(a,b):\n",
    "#         print (i)\n",
    "        sum = sum+abs(i-j)\n",
    "    \n",
    "    return sum"
   ]
  },
  {
   "cell_type": "code",
   "execution_count": 68,
   "id": "a5d0d752",
   "metadata": {},
   "outputs": [],
   "source": [
    "def cluster(a,b):\n",
    "    cost = 0\n",
    "    cluster = []\n",
    "    for i in range(10):\n",
    "        cluster.append([])\n",
    "    mind = inf\n",
    "    for i in range(4601):\n",
    "        for j in range(10):\n",
    "            distant = dis(a[i], b[j])\n",
    "#             print(distant)\n",
    "            if distant < mind:\n",
    "                mind = distant\n",
    "                flag = j\n",
    "#                 print(j)\n",
    "        cluster[flag].append(a[i])\n",
    "        cost = cost + (dis(a[i],b[flag])**2)\n",
    "        mind = inf\n",
    "    print(cost)\n",
    "    return cluster"
   ]
  },
  {
   "cell_type": "code",
   "execution_count": 108,
   "id": "070066c0",
   "metadata": {},
   "outputs": [],
   "source": [
    "def cluster2(a,b):\n",
    "    cost = 0\n",
    "    cluster = []\n",
    "    for i in range(10):\n",
    "        cluster.append([])\n",
    "    mind = inf\n",
    "    for i in range(4601):\n",
    "        for j in range(10):\n",
    "            distant = dis2(a[i], b[j])\n",
    "#             print(distant)\n",
    "            if distant < mind:\n",
    "                mind = distant\n",
    "                flag = j\n",
    "#                 print(j)\n",
    "        cluster[flag].append(a[i])\n",
    "        cost = cost + dis2(a[i],b[flag])\n",
    "        mind = inf\n",
    "    print(cost)\n",
    "    return cluster"
   ]
  },
  {
   "cell_type": "code",
   "execution_count": 109,
   "id": "91c178eb",
   "metadata": {},
   "outputs": [],
   "source": [
    "def findnew(line):\n",
    "    new = []\n",
    "    for i in range(58):\n",
    "        sum = 0\n",
    "        for item in line:\n",
    "            sum = sum+item[i]\n",
    "        sum = sum/len(line)\n",
    "        new.append(sum)\n",
    "    return new "
   ]
  },
  {
   "cell_type": "code",
   "execution_count": 134,
   "id": "edde2ba3",
   "metadata": {},
   "outputs": [
    {
     "name": "stdout",
     "output_type": "stream",
     "text": [
      "550117.1420000045\n"
     ]
    }
   ],
   "source": [
    "#manhatan\n",
    "l = cluster2(lines2.collect(),c1.collect())\n",
    "l = sc.parallelize(l)\n",
    "newcent = l.map(findnew)"
   ]
  },
  {
   "cell_type": "code",
   "execution_count": 135,
   "id": "8164f016",
   "metadata": {},
   "outputs": [
    {
     "name": "stdout",
     "output_type": "stream",
     "text": [
      "464869.27587929845\n",
      "470897.3822772998\n",
      "483914.40917334514\n",
      "489216.0710034315\n",
      "487629.6685499822\n",
      "483711.9232137478\n",
      "475330.7734932305\n",
      "474871.2388463643\n",
      "457232.92011507344\n",
      "447494.38619734696\n",
      "450915.0125766772\n",
      "451250.3670725656\n",
      "451974.5955397487\n",
      "451570.3640699583\n",
      "452739.0113664558\n",
      "453082.7302871829\n",
      "450583.67086030025\n",
      "450368.7493167392\n",
      "449011.3637255198\n"
     ]
    }
   ],
   "source": [
    "#manhatan\n",
    "for i in range(19):\n",
    "    tmp = newcent\n",
    "    ncl = cluster2(lines2.collect(),tmp.collect())\n",
    "    ncl = sc.parallelize(ncl)\n",
    "    newcent = ncl.map(findnew)\n",
    "c1_anscent2 = newcent"
   ]
  },
  {
   "cell_type": "code",
   "execution_count": 123,
   "id": "b11dba05",
   "metadata": {},
   "outputs": [],
   "source": [
    "c1_anscent2 = c1_anscent2.collect()"
   ]
  },
  {
   "cell_type": "code",
   "execution_count": 124,
   "id": "bcdefba0",
   "metadata": {},
   "outputs": [
    {
     "name": "stdout",
     "output_type": "stream",
     "text": [
      "2 , 1 = 2219.1772770509865\n",
      "3 , 1 = 9948.044077639335\n",
      "3 , 2 = 7767.945602579569\n",
      "4 , 1 = 528.6997575475606\n",
      "4 , 2 = 2734.0498544640413\n",
      "4 , 3 = 10433.061351319797\n",
      "5 , 1 = 413.3650612071161\n",
      "5 , 2 = 2628.4908097297634\n",
      "5 , 3 = 10361.367486044566\n",
      "5 , 4 = 221.37279398782263\n",
      "6 , 1 = 827.7188856579816\n",
      "6 , 2 = 3044.4778721252733\n",
      "6 , 3 = 10773.530838116945\n",
      "6 , 4 = 375.1561884837036\n",
      "6 , 5 = 415.9899852468605\n",
      "7 , 1 = 681.0349895443137\n",
      "7 , 2 = 2898.7128939326617\n",
      "7 , 3 = 10626.48859681842\n",
      "7 , 4 = 249.3791882654921\n",
      "7 , 5 = 270.74879157775905\n",
      "7 , 6 = 147.04697388149492\n",
      "8 , 1 = 917.127382961168\n",
      "8 , 2 = 3133.460130173686\n",
      "8 , 3 = 10862.965776276442\n",
      "8 , 4 = 457.25965255434755\n",
      "8 , 5 = 505.07106661337866\n",
      "8 , 6 = 89.4909165524104\n",
      "8 , 7 = 236.51462239245419\n",
      "9 , 1 = 832.1474343052389\n",
      "9 , 2 = 1812.4545744763466\n",
      "9 , 3 = 9340.275232170257\n",
      "9 , 4 = 1156.5833757939854\n",
      "9 , 5 = 1171.964205896139\n",
      "9 , 6 = 1529.4640115204097\n",
      "9 , 7 = 1391.550421146714\n",
      "9 , 8 = 1613.555789411286\n",
      "10 , 1 = 729.0563485517976\n",
      "10 , 2 = 1491.3573457511582\n",
      "10 , 3 = 9236.840021697923\n",
      "10 , 4 = 1251.1583460671166\n",
      "10 , 5 = 1137.135265913954\n",
      "10 , 6 = 1553.1238066646654\n",
      "10 , 7 = 1407.404400267174\n",
      "10 , 8 = 1642.1286873773308\n",
      "10 , 9 = 709.4077855501387\n"
     ]
    }
   ],
   "source": [
    "for i in range(len(c1_anscent2)):\n",
    "    for j in range(i):\n",
    "        print(i+1,',',j+1,'=',dis(c1_anscent2[i],c1_anscent2[j]))"
   ]
  },
  {
   "cell_type": "code",
   "execution_count": 125,
   "id": "341e203b",
   "metadata": {},
   "outputs": [
    {
     "name": "stdout",
     "output_type": "stream",
     "text": [
      "2 , 1 = 2341.017218605991\n",
      "3 , 1 = 11929.300151785714\n",
      "3 , 2 = 9597.441187096774\n",
      "4 , 1 = 651.187488095238\n",
      "4 , 2 = 2778.9457620967737\n",
      "4 , 3 = 12323.287569444445\n",
      "5 , 1 = 496.33152119047617\n",
      "5 , 2 = 2830.1445281720426\n",
      "5 , 3 = 12421.263079999999\n",
      "5 , 4 = 335.951213\n",
      "6 , 1 = 947.7432364650634\n",
      "6 , 2 = 3280.3591681796074\n",
      "6 , 3 = 12871.483428978225\n",
      "6 , 4 = 558.4692581658292\n",
      "6 , 5 = 452.86133068676713\n",
      "7 , 1 = 770.7373834915085\n",
      "7 , 2 = 3104.2857711482065\n",
      "7 , 3 = 12695.554202097901\n",
      "7 , 4 = 382.4633301282051\n",
      "7 , 5 = 276.3264914965034\n",
      "7 , 6 = 177.59316237363976\n",
      "8 , 1 = 1056.7995006298163\n",
      "8 , 2 = 3388.9826482565923\n",
      "8 , 3 = 12979.13318018672\n",
      "8 , 4 = 667.5332295988935\n",
      "8 , 5 = 561.8492485408023\n",
      "8 , 6 = 110.21762404606017\n",
      "8 , 7 = 287.42970773365636\n",
      "9 , 1 = 1260.5105607142857\n",
      "9 , 2 = 2380.460958064516\n",
      "9 , 3 = 10775.939185714284\n",
      "9 , 4 = 1653.8258869047618\n",
      "9 , 5 = 1755.105532761905\n",
      "9 , 6 = 2205.3073830102894\n",
      "9 , 7 = 2028.901615784216\n",
      "9 , 8 = 2314.667454756965\n",
      "10 , 1 = 737.7135730519481\n",
      "10 , 2 = 1605.2701287064187\n",
      "10 , 3 = 11196.78698181818\n",
      "10 , 4 = 1379.165172979798\n",
      "10 , 5 = 1226.6603546666668\n",
      "10 , 6 = 1677.666863534846\n",
      "10 , 7 = 1500.9934102564105\n",
      "10 , 8 = 1786.8113163428895\n",
      "10 , 9 = 1006.3678264069263\n"
     ]
    }
   ],
   "source": [
    "for i in range(len(c1_anscent2)):\n",
    "    for j in range(i):\n",
    "        print(i+1,',',j+1,'=',dis2(c1_anscent2[i],c1_anscent2[j]))"
   ]
  },
  {
   "cell_type": "code",
   "execution_count": 81,
   "id": "bfaa0211",
   "metadata": {},
   "outputs": [
    {
     "name": "stdout",
     "output_type": "stream",
     "text": [
      "623660345.3064235\n"
     ]
    }
   ],
   "source": [
    "l = cluster(lines2.collect(),c1.collect())\n",
    "l = sc.parallelize(l)\n",
    "newcent = l.map(findnew)"
   ]
  },
  {
   "cell_type": "code",
   "execution_count": 82,
   "id": "7b38f090",
   "metadata": {},
   "outputs": [
    {
     "name": "stdout",
     "output_type": "stream",
     "text": [
      "509862908.29754597\n",
      "485480681.8720084\n",
      "463997011.6850107\n",
      "460969266.57299405\n",
      "460537847.98277014\n",
      "460313099.65354246\n",
      "460003523.88940686\n",
      "459570539.3177354\n",
      "459021103.3422901\n",
      "458490656.1919808\n",
      "457944232.5879742\n",
      "457558005.1986796\n",
      "457290136.3523032\n",
      "457050555.0595639\n",
      "456892235.61535746\n",
      "456703630.7370357\n",
      "456404203.0189769\n",
      "456177800.54199505\n",
      "455986871.02734846\n"
     ]
    }
   ],
   "source": [
    "for i in range(19):\n",
    "    tmp = newcent\n",
    "    ncl = cluster(lines2.collect(),tmp.collect())\n",
    "    ncl = sc.parallelize(ncl)\n",
    "    newcent = ncl.map(findnew)\n",
    "c1_anscent = newcent"
   ]
  },
  {
   "cell_type": "code",
   "execution_count": 83,
   "id": "e2fbf28d",
   "metadata": {},
   "outputs": [],
   "source": [
    "c1_anscent = c1_anscent.collect()"
   ]
  },
  {
   "cell_type": "code",
   "execution_count": 65,
   "id": "5f65dbe8",
   "metadata": {},
   "outputs": [
    {
     "name": "stdout",
     "output_type": "stream",
     "text": [
      "2 , 1 = 692.1578865536187\n",
      "3 , 1 = 3490.2586403239793\n",
      "3 , 2 = 2798.8010531589434\n",
      "4 , 1 = 205.75027883457204\n",
      "4 , 2 = 897.6589863450828\n",
      "4 , 3 = 3695.114191079636\n",
      "5 , 1 = 346.71882253414816\n",
      "5 , 2 = 1038.8268882911389\n",
      "5 , 3 = 3836.9066381524567\n",
      "5 , 4 = 142.43887392408647\n",
      "6 , 1 = 512.6122467083617\n",
      "6 , 2 = 1204.0781989863117\n",
      "6 , 3 = 4002.6890825730284\n",
      "6 , 4 = 309.50632446700047\n",
      "6 , 5 = 167.1498001315246\n",
      "7 , 1 = 444.7310005470825\n",
      "7 , 2 = 1136.3273438149283\n",
      "7 , 3 = 3934.8715588311575\n",
      "7 , 4 = 241.7301145044183\n",
      "7 , 5 = 99.54554331498562\n",
      "7 , 6 = 67.91186107588504\n",
      "8 , 1 = 566.2019922936282\n",
      "8 , 2 = 1257.4495275592424\n",
      "8 , 3 = 4056.1355729719103\n",
      "8 , 4 = 363.2628951046584\n",
      "8 , 5 = 220.90178372040566\n",
      "8 , 6 = 53.78989116172683\n",
      "8 , 7 = 121.63372043718282\n",
      "9 , 1 = 1282.7708445154385\n",
      "9 , 2 = 669.8902282318555\n",
      "9 , 3 = 2294.57964158953\n",
      "9 , 4 = 1474.9454213642691\n",
      "9 , 5 = 1615.852353440387\n",
      "9 , 6 = 1782.2030486002302\n",
      "9 , 7 = 1715.2531997144126\n",
      "9 , 8 = 1835.6396718448902\n",
      "10 , 1 = 307.66912835221507\n",
      "10 , 2 = 412.076077167744\n",
      "10 , 3 = 3195.9239010108936\n",
      "10 , 4 = 504.63411599571515\n",
      "10 , 5 = 646.9305638786212\n",
      "10 , 6 = 814.0761501339795\n",
      "10 , 7 = 746.3355586141014\n",
      "10 , 8 = 867.8230790917461\n",
      "10 , 9 = 975.3204225971708\n"
     ]
    }
   ],
   "source": [
    "for i in range(len(c1_anscent)):\n",
    "    for j in range(i):\n",
    "        print(i+1,',',j+1,'=',dis(c1_anscent[i],c1_anscent[j]))"
   ]
  },
  {
   "cell_type": "code",
   "execution_count": 84,
   "id": "25b3bcdc",
   "metadata": {},
   "outputs": [
    {
     "name": "stdout",
     "output_type": "stream",
     "text": [
      "2 , 1 = 728.9243139995409\n",
      "3 , 1 = 3797.8990780180675\n",
      "3 , 2 = 3072.8886904466503\n",
      "4 , 1 = 212.18109038688195\n",
      "4 , 2 = 935.8853379058191\n",
      "4 , 3 = 4001.0380519416276\n",
      "5 , 1 = 374.8904224625678\n",
      "5 , 2 = 1100.833091013825\n",
      "5 , 3 = 4170.304532612548\n",
      "5 , 4 = 171.3651541556152\n",
      "6 , 1 = 577.4020758222025\n",
      "6 , 2 = 1303.8957233218873\n",
      "6 , 3 = 4372.788718801669\n",
      "6 , 4 = 375.2479208943975\n",
      "6 , 5 = 204.52292364239253\n",
      "7 , 1 = 499.1578939470968\n",
      "7 , 2 = 1225.351713180189\n",
      "7 , 3 = 4294.952834221333\n",
      "7 , 4 = 296.25472354226696\n",
      "7 , 5 = 125.59678617977005\n",
      "7 , 6 = 79.40168444202222\n",
      "8 , 1 = 645.7697774866793\n",
      "8 , 2 = 1372.0922054892176\n",
      "8 , 3 = 4440.719767637059\n",
      "8 , 4 = 443.49844537759145\n",
      "8 , 5 = 272.93491284339433\n",
      "8 , 6 = 69.58987631971816\n",
      "8 , 7 = 147.86570909768562\n",
      "9 , 1 = 1731.0643066429416\n",
      "9 , 2 = 1005.2930456989247\n",
      "9 , 3 = 2513.422660256411\n",
      "9 , 4 = 1934.086959807074\n",
      "9 , 5 = 2102.8649228110594\n",
      "9 , 6 = 2306.3802505970657\n",
      "9 , 7 = 2227.555856782107\n",
      "9 , 8 = 2374.545430478822\n",
      "10 , 1 = 406.70122510554586\n",
      "10 , 2 = 490.9280581546785\n",
      "10 , 3 = 3396.4200031055902\n",
      "10 , 4 = 609.749321623295\n",
      "10 , 5 = 779.3972267080745\n",
      "10 , 6 = 983.019680661424\n",
      "10 , 7 = 904.3702500156849\n",
      "10 , 8 = 1050.9162214834769\n",
      "10 , 9 = 1327.5839795031056\n"
     ]
    }
   ],
   "source": [
    "for i in range(len(c1_anscent)):\n",
    "    for j in range(i):\n",
    "        print(i+1,',',j+1,'=',dis2(c1_anscent[i],c1_anscent[j]))"
   ]
  },
  {
   "cell_type": "code",
   "execution_count": 115,
   "id": "95d2748f",
   "metadata": {},
   "outputs": [],
   "source": [
    "c2= sc.textFile(\"/Users/huangyushu/Desktop/hw3-kmeans-testcase/c2.txt\").flatMap(mapper1try)\n",
    "c2 = c2.map(change)"
   ]
  },
  {
   "cell_type": "code",
   "execution_count": 128,
   "id": "4b6d66ff",
   "metadata": {},
   "outputs": [
    {
     "name": "stdout",
     "output_type": "stream",
     "text": [
      "1433739.3099999938\n"
     ]
    }
   ],
   "source": [
    "#manhattan\n",
    "m = cluster2(lines2.collect(),c2.collect())\n",
    "m = sc.parallelize(m)\n",
    "newcent2 = m.map(findnew)"
   ]
  },
  {
   "cell_type": "code",
   "execution_count": 129,
   "id": "126e84e6",
   "metadata": {},
   "outputs": [
    {
     "name": "stdout",
     "output_type": "stream",
     "text": [
      "1084488.7769648738\n",
      "973431.7146620394\n",
      "895934.5925630673\n",
      "865128.3352940796\n",
      "845846.6470313473\n",
      "827219.5827561237\n",
      "803590.3456011107\n",
      "756039.5172761244\n",
      "717332.9025432297\n",
      "694587.9252526843\n",
      "684444.5019967925\n",
      "674574.7475478566\n",
      "667409.469916026\n",
      "663556.6278214998\n",
      "660162.777228758\n",
      "656041.3222947085\n",
      "653036.7540731638\n",
      "651112.4262522653\n",
      "649689.0131843556\n"
     ]
    }
   ],
   "source": [
    "#manhattan\n",
    "for i in range(19):\n",
    "    tmp = newcent2\n",
    "    ncl = cluster2(lines2.collect(),tmp.collect())\n",
    "    ncl = sc.parallelize(ncl)\n",
    "    newcent2 = ncl.map(findnew)\n",
    "# newcent.collect()\n",
    "c2_anscent2 = newcent2"
   ]
  },
  {
   "cell_type": "code",
   "execution_count": 131,
   "id": "7f0aede2",
   "metadata": {},
   "outputs": [],
   "source": [
    "c2_anscent2 = c2_anscent2.collect()"
   ]
  },
  {
   "cell_type": "code",
   "execution_count": 132,
   "id": "856216d1",
   "metadata": {},
   "outputs": [
    {
     "name": "stdout",
     "output_type": "stream",
     "text": [
      "2 , 1 = 15747.234225995131\n",
      "3 , 1 = 14100.144687804226\n",
      "3 , 2 = 11524.505650179837\n",
      "4 , 1 = 9032.333022974994\n",
      "4 , 2 = 6743.88410019246\n",
      "4 , 3 = 9545.879403387185\n",
      "5 , 1 = 5554.786693382845\n",
      "5 , 2 = 10192.525007384162\n",
      "5 , 3 = 10883.382187801386\n",
      "5 , 4 = 3494.2224155718104\n",
      "6 , 1 = 2006.7026683699517\n",
      "6 , 2 = 14474.554115568231\n",
      "6 , 3 = 12167.79387138704\n",
      "6 , 4 = 7742.6281172713425\n",
      "6 , 5 = 4452.971684507903\n",
      "7 , 1 = 1338.161125522521\n",
      "7 , 2 = 14412.056615494355\n",
      "7 , 3 = 13125.351004065811\n",
      "7 , 4 = 7694.276701483224\n",
      "7 , 5 = 4219.760574098205\n",
      "7 , 6 = 1405.1090803330765\n",
      "8 , 1 = 514.627037539365\n",
      "8 , 2 = 15239.87707116475\n",
      "8 , 3 = 13684.606757319763\n",
      "8 , 4 = 8521.197863130883\n",
      "8 , 5 = 5047.516256062294\n",
      "8 , 6 = 1637.7294382123869\n",
      "8 , 7 = 827.840658014979\n",
      "9 , 1 = 1571.2434198098995\n",
      "9 , 2 = 14328.226191823098\n",
      "9 , 3 = 12643.985638343242\n",
      "9 , 4 = 7588.404540222487\n",
      "9 , 5 = 4167.636533016605\n",
      "9 , 6 = 910.9943878357352\n",
      "9 , 7 = 566.5510174100833\n",
      "9 , 8 = 1081.3793348240201\n",
      "10 , 1 = 3022.6608840606823\n",
      "10 , 2 = 12731.397634823861\n",
      "10 , 3 = 12006.39461776129\n",
      "10 , 4 = 6009.820222838373\n",
      "10 , 5 = 2542.5693542004556\n",
      "10 , 6 = 2124.2633623517277\n",
      "10 , 7 = 1684.516011855046\n",
      "10 , 8 = 2511.458858671225\n",
      "10 , 9 = 1649.3891719444812\n"
     ]
    }
   ],
   "source": [
    "for i in range(len(c2_anscent2)):\n",
    "    for j in range(i):\n",
    "        print(i+1,',',j+1,'=',dis(c2_anscent2[i],c2_anscent2[j]))"
   ]
  },
  {
   "cell_type": "code",
   "execution_count": 133,
   "id": "76810240",
   "metadata": {},
   "outputs": [
    {
     "name": "stdout",
     "output_type": "stream",
     "text": [
      "2 , 1 = 15757.691264458323\n",
      "3 , 1 = 20200.259435786043\n",
      "3 , 2 = 16003.499\n",
      "4 , 1 = 9517.668232509728\n",
      "4 , 2 = 7219.196666666668\n",
      "4 , 3 = 10690.484333333334\n",
      "5 , 1 = 5588.853634537063\n",
      "5 , 2 = 10221.031\n",
      "5 , 3 = 14613.552\n",
      "5 , 4 = 3935.2926666666663\n",
      "6 , 1 = 3281.488246764413\n",
      "6 , 2 = 16325.2705\n",
      "6 , 3 = 17521.517666666663\n",
      "6 , 4 = 9116.0245\n",
      "6 , 5 = 6110.8325\n",
      "7 , 1 = 1430.2086778758846\n",
      "7 , 2 = 14506.48588961039\n",
      "7 , 3 = 18775.12146103896\n",
      "7 , 4 = 8090.510188311688\n",
      "7 , 5 = 4293.5019025974025\n",
      "7 , 6 = 1855.5799090909088\n",
      "8 , 1 = 602.9548488263027\n",
      "8 , 2 = 15335.957402597402\n",
      "8 , 3 = 19602.262814935064\n",
      "8 , 4 = 8918.813116883115\n",
      "8 , 5 = 5123.066808441558\n",
      "8 , 6 = 2682.5692337662335\n",
      "8 , 7 = 833.4302824675323\n",
      "9 , 1 = 2102.553977579326\n",
      "9 , 2 = 14980.056095890412\n",
      "9 , 3 = 18111.885424657536\n",
      "9 , 4 = 7771.22207762557\n",
      "9 , 5 = 4768.923\n",
      "9 , 6 = 1358.795894977169\n",
      "9 , 7 = 674.8275699163852\n",
      "9 , 8 = 1500.824883695072\n",
      "10 , 1 = 3211.4557560606645\n",
      "10 , 2 = 12922.931357142857\n",
      "10 , 3 = 16995.133535714285\n",
      "10 , 4 = 6312.5300119047615\n",
      "10 , 5 = 2710.0564999999997\n",
      "10 , 6 = 3413.0361785714285\n",
      "10 , 7 = 1784.5120454545456\n",
      "10 , 8 = 2613.9973051948054\n",
      "10 , 9 = 2062.251068003914\n"
     ]
    }
   ],
   "source": [
    "for i in range(len(c2_anscent2)):\n",
    "    for j in range(i):\n",
    "        print(i+1,',',j+1,'=',dis2(c2_anscent2[i],c2_anscent2[j]))"
   ]
  },
  {
   "cell_type": "code",
   "execution_count": 85,
   "id": "26665b5a",
   "metadata": {},
   "outputs": [
    {
     "name": "stdout",
     "output_type": "stream",
     "text": [
      "438747790.027918\n"
     ]
    }
   ],
   "source": [
    "m = cluster(lines2.collect(),c2.collect())\n",
    "m = sc.parallelize(m)\n",
    "newcent2 = m.map(findnew)"
   ]
  },
  {
   "cell_type": "code",
   "execution_count": 87,
   "id": "91c2333c",
   "metadata": {},
   "outputs": [
    {
     "name": "stdout",
     "output_type": "stream",
     "text": [
      "249803933.62600294\n",
      "194494814.40631393\n",
      "169804841.45154336\n",
      "156295748.80627596\n",
      "149094208.10896608\n",
      "142508531.61961588\n",
      "132303869.40653005\n",
      "117170969.83719078\n",
      "108547377.17857017\n",
      "102237203.31799614\n",
      "98278015.74975717\n",
      "95630226.12177444\n",
      "93793314.05119292\n",
      "92377131.96821108\n",
      "91541606.25423913\n",
      "91045573.8304242\n",
      "90752240.10140836\n",
      "90470170.18122767\n",
      "90216416.17563146\n"
     ]
    }
   ],
   "source": [
    "for i in range(19):\n",
    "    tmp = newcent2\n",
    "    ncl = cluster(lines2.collect(),tmp.collect())\n",
    "    ncl = sc.parallelize(ncl)\n",
    "    newcent2 = ncl.map(findnew)\n",
    "# newcent.collect()\n",
    "c2_anscent = newcent2"
   ]
  },
  {
   "cell_type": "code",
   "execution_count": 88,
   "id": "c583c9e0",
   "metadata": {},
   "outputs": [],
   "source": [
    "c2_anscent = c2_anscent.collect()"
   ]
  },
  {
   "cell_type": "code",
   "execution_count": 80,
   "id": "8c2a884a",
   "metadata": {},
   "outputs": [
    {
     "name": "stdout",
     "output_type": "stream",
     "text": [
      "2 , 1 = 15760.12247224593\n",
      "3 , 1 = 14110.83439088334\n",
      "3 , 2 = 11524.505650179837\n",
      "4 , 1 = 9045.32023455239\n",
      "4 , 2 = 6743.88410019246\n",
      "4 , 3 = 9545.879403387185\n",
      "5 , 1 = 5567.684524118405\n",
      "5 , 2 = 10192.525007384162\n",
      "5 , 3 = 10883.382187801386\n",
      "5 , 4 = 3494.2224155718104\n",
      "6 , 1 = 1924.6240815733204\n",
      "6 , 2 = 14455.11937212132\n",
      "6 , 3 = 12233.959804503613\n",
      "6 , 4 = 7718.222009696623\n",
      "6 , 5 = 4404.562590797219\n",
      "7 , 1 = 1100.8590503593277\n",
      "7 , 2 = 14682.450992891092\n",
      "7 , 3 = 13208.002933714424\n",
      "7 , 4 = 7957.775949135465\n",
      "7 , 5 = 4492.458214360271\n",
      "7 , 6 = 1182.864189045907\n",
      "8 , 1 = 402.89054961102914\n",
      "8 , 2 = 15362.417960805125\n",
      "8 , 3 = 13786.484182516106\n",
      "8 , 4 = 8644.807041005524\n",
      "8 , 5 = 5169.9372911256405\n",
      "8 , 6 = 1615.7882361392917\n",
      "8 , 7 = 698.4881359277906\n",
      "9 , 1 = 2105.4425755929597\n",
      "9 , 2 = 13674.707531226235\n",
      "9 , 3 = 12508.95738096874\n",
      "9 , 4 = 6947.820636329124\n",
      "9 , 5 = 3488.1585187816186\n",
      "9 , 6 = 1313.3274934048693\n",
      "9 , 7 = 1010.1976652126849\n",
      "9 , 8 = 1702.7926583344838\n",
      "10 , 1 = 3169.003772849924\n",
      "10 , 2 = 12597.039559531104\n",
      "10 , 3 = 11938.376127029482\n",
      "10 , 4 = 5876.330199605868\n",
      "10 , 5 = 2407.918794485802\n",
      "10 , 6 = 2153.771471752397\n",
      "10 , 7 = 2085.4606764072964\n",
      "10 , 8 = 2768.6077191659247\n",
      "10 , 9 = 1080.534943939508\n"
     ]
    }
   ],
   "source": [
    "for i in range(len(c2_anscent)):\n",
    "    for j in range(i):\n",
    "        print(i+1,',',j+1,'=',dis(c2_anscent[i],c2_anscent[j]))"
   ]
  },
  {
   "cell_type": "code",
   "execution_count": 89,
   "id": "1a233c98",
   "metadata": {},
   "outputs": [
    {
     "name": "stdout",
     "output_type": "stream",
     "text": [
      "2 , 1 = 15772.614899885255\n",
      "3 , 1 = 20215.645980206544\n",
      "3 , 2 = 16003.499\n",
      "4 , 1 = 9533.17084939759\n",
      "4 , 2 = 7219.196666666668\n",
      "4 , 3 = 10690.484333333334\n",
      "5 , 1 = 5604.200489099255\n",
      "5 , 2 = 10221.031\n",
      "5 , 3 = 14613.552\n",
      "5 , 4 = 3935.2926666666663\n",
      "6 , 1 = 3088.0543184882386\n",
      "6 , 2 = 16105.3475\n",
      "6 , 3 = 17509.90275\n",
      "6 , 4 = 8896.389208333332\n",
      "6 , 5 = 5893.070125\n",
      "7 , 1 = 1311.039156985083\n",
      "7 , 2 = 14909.169510714286\n",
      "7 , 3 = 18912.605410714285\n",
      "7 , 4 = 8228.355075\n",
      "7 , 5 = 4696.975382142857\n",
      "7 , 6 = 1781.8226714285715\n",
      "8 , 1 = 471.26571999995156\n",
      "8 , 2 = 15434.460040787624\n",
      "8 , 3 = 19748.93569338959\n",
      "8 , 4 = 9065.404333333334\n",
      "8 , 5 = 5221.252805907173\n",
      "8 , 6 = 2619.8113862517584\n",
      "8 , 7 = 840.7225236939923\n",
      "9 , 1 = 2369.4121590413606\n",
      "9 , 2 = 13950.575945454546\n",
      "9 , 3 = 17851.806836363638\n",
      "9 , 4 = 7168.732963636363\n",
      "9 , 5 = 3737.707\n",
      "9 , 6 = 2162.8021454545456\n",
      "9 , 7 = 1068.9399724025977\n",
      "9 , 8 = 1901.208756322721\n",
      "10 , 1 = 3349.657086008631\n",
      "10 , 2 = 12776.883065217391\n",
      "10 , 3 = 16873.243673913043\n",
      "10 , 4 = 6190.679311594203\n",
      "10 , 5 = 2564.1705434782607\n",
      "10 , 6 = 3337.7462608695655\n",
      "10 , 7 = 2137.7882566770186\n",
      "10 , 8 = 2883.734536812817\n",
      "10 , 9 = 1176.4504256916996\n"
     ]
    }
   ],
   "source": [
    "for i in range(len(c2_anscent)):\n",
    "    for j in range(i):\n",
    "        print(i+1,',',j+1,'=',dis2(c2_anscent[i],c2_anscent[j]))"
   ]
  },
  {
   "cell_type": "code",
   "execution_count": 37,
   "id": "e3ed42dd",
   "metadata": {},
   "outputs": [
    {
     "data": {
      "text/html": [
       "<div>\n",
       "<style scoped>\n",
       "    .dataframe tbody tr th:only-of-type {\n",
       "        vertical-align: middle;\n",
       "    }\n",
       "\n",
       "    .dataframe tbody tr th {\n",
       "        vertical-align: top;\n",
       "    }\n",
       "\n",
       "    .dataframe thead th {\n",
       "        text-align: right;\n",
       "    }\n",
       "</style>\n",
       "<table border=\"1\" class=\"dataframe\">\n",
       "  <thead>\n",
       "    <tr style=\"text-align: right;\">\n",
       "      <th></th>\n",
       "      <th>Round</th>\n",
       "      <th>c1</th>\n",
       "      <th>c2</th>\n",
       "    </tr>\n",
       "  </thead>\n",
       "  <tbody>\n",
       "    <tr>\n",
       "      <th>0</th>\n",
       "      <td>1</td>\n",
       "      <td>6.236603e+08</td>\n",
       "      <td>4.387478e+08</td>\n",
       "    </tr>\n",
       "    <tr>\n",
       "      <th>1</th>\n",
       "      <td>2</td>\n",
       "      <td>5.098629e+08</td>\n",
       "      <td>2.498039e+08</td>\n",
       "    </tr>\n",
       "    <tr>\n",
       "      <th>2</th>\n",
       "      <td>3</td>\n",
       "      <td>4.854807e+08</td>\n",
       "      <td>1.944948e+08</td>\n",
       "    </tr>\n",
       "    <tr>\n",
       "      <th>3</th>\n",
       "      <td>4</td>\n",
       "      <td>4.639970e+08</td>\n",
       "      <td>1.698048e+08</td>\n",
       "    </tr>\n",
       "    <tr>\n",
       "      <th>4</th>\n",
       "      <td>5</td>\n",
       "      <td>4.609693e+08</td>\n",
       "      <td>1.562957e+08</td>\n",
       "    </tr>\n",
       "    <tr>\n",
       "      <th>5</th>\n",
       "      <td>6</td>\n",
       "      <td>4.605378e+08</td>\n",
       "      <td>1.490942e+08</td>\n",
       "    </tr>\n",
       "    <tr>\n",
       "      <th>6</th>\n",
       "      <td>7</td>\n",
       "      <td>4.603131e+08</td>\n",
       "      <td>1.425085e+08</td>\n",
       "    </tr>\n",
       "    <tr>\n",
       "      <th>7</th>\n",
       "      <td>8</td>\n",
       "      <td>4.600035e+08</td>\n",
       "      <td>1.323039e+08</td>\n",
       "    </tr>\n",
       "    <tr>\n",
       "      <th>8</th>\n",
       "      <td>9</td>\n",
       "      <td>4.595705e+08</td>\n",
       "      <td>1.171710e+08</td>\n",
       "    </tr>\n",
       "    <tr>\n",
       "      <th>9</th>\n",
       "      <td>10</td>\n",
       "      <td>4.590211e+08</td>\n",
       "      <td>1.085474e+08</td>\n",
       "    </tr>\n",
       "    <tr>\n",
       "      <th>10</th>\n",
       "      <td>11</td>\n",
       "      <td>4.584907e+08</td>\n",
       "      <td>1.022372e+08</td>\n",
       "    </tr>\n",
       "    <tr>\n",
       "      <th>11</th>\n",
       "      <td>12</td>\n",
       "      <td>4.579442e+08</td>\n",
       "      <td>9.827802e+07</td>\n",
       "    </tr>\n",
       "    <tr>\n",
       "      <th>12</th>\n",
       "      <td>13</td>\n",
       "      <td>4.575580e+08</td>\n",
       "      <td>9.563023e+07</td>\n",
       "    </tr>\n",
       "    <tr>\n",
       "      <th>13</th>\n",
       "      <td>14</td>\n",
       "      <td>4.572901e+08</td>\n",
       "      <td>9.379331e+07</td>\n",
       "    </tr>\n",
       "    <tr>\n",
       "      <th>14</th>\n",
       "      <td>15</td>\n",
       "      <td>4.570506e+08</td>\n",
       "      <td>9.237713e+07</td>\n",
       "    </tr>\n",
       "    <tr>\n",
       "      <th>15</th>\n",
       "      <td>16</td>\n",
       "      <td>4.568922e+08</td>\n",
       "      <td>9.154161e+07</td>\n",
       "    </tr>\n",
       "    <tr>\n",
       "      <th>16</th>\n",
       "      <td>17</td>\n",
       "      <td>4.567036e+08</td>\n",
       "      <td>9.104557e+07</td>\n",
       "    </tr>\n",
       "    <tr>\n",
       "      <th>17</th>\n",
       "      <td>18</td>\n",
       "      <td>4.564042e+08</td>\n",
       "      <td>9.075224e+07</td>\n",
       "    </tr>\n",
       "    <tr>\n",
       "      <th>18</th>\n",
       "      <td>19</td>\n",
       "      <td>4.561778e+08</td>\n",
       "      <td>9.047017e+07</td>\n",
       "    </tr>\n",
       "    <tr>\n",
       "      <th>19</th>\n",
       "      <td>20</td>\n",
       "      <td>4.559869e+08</td>\n",
       "      <td>9.021642e+07</td>\n",
       "    </tr>\n",
       "  </tbody>\n",
       "</table>\n",
       "</div>"
      ],
      "text/plain": [
       "    Round            c1            c2\n",
       "0       1  6.236603e+08  4.387478e+08\n",
       "1       2  5.098629e+08  2.498039e+08\n",
       "2       3  4.854807e+08  1.944948e+08\n",
       "3       4  4.639970e+08  1.698048e+08\n",
       "4       5  4.609693e+08  1.562957e+08\n",
       "5       6  4.605378e+08  1.490942e+08\n",
       "6       7  4.603131e+08  1.425085e+08\n",
       "7       8  4.600035e+08  1.323039e+08\n",
       "8       9  4.595705e+08  1.171710e+08\n",
       "9      10  4.590211e+08  1.085474e+08\n",
       "10     11  4.584907e+08  1.022372e+08\n",
       "11     12  4.579442e+08  9.827802e+07\n",
       "12     13  4.575580e+08  9.563023e+07\n",
       "13     14  4.572901e+08  9.379331e+07\n",
       "14     15  4.570506e+08  9.237713e+07\n",
       "15     16  4.568922e+08  9.154161e+07\n",
       "16     17  4.567036e+08  9.104557e+07\n",
       "17     18  4.564042e+08  9.075224e+07\n",
       "18     19  4.561778e+08  9.047017e+07\n",
       "19     20  4.559869e+08  9.021642e+07"
      ]
     },
     "execution_count": 37,
     "metadata": {},
     "output_type": "execute_result"
    }
   ],
   "source": [
    "# import pandas as pd\n",
    "# from pandas import DataFrame\n",
    "# l = []\n",
    "# for i in range(20):\n",
    "#     l.append(i+1)\n",
    "# df = pd.DataFrame(c1cost)\n",
    "# df['Round'] = l\n",
    "# df['c1'] = c1cost\n",
    "# df['c2'] = c2cost\n",
    "# df = df.drop([0],axis = 1)\n",
    "# df"
   ]
  },
  {
   "cell_type": "code",
   "execution_count": 95,
   "id": "17e9576d",
   "metadata": {},
   "outputs": [
    {
     "data": {
      "text/html": [
       "<div>\n",
       "<style scoped>\n",
       "    .dataframe tbody tr th:only-of-type {\n",
       "        vertical-align: middle;\n",
       "    }\n",
       "\n",
       "    .dataframe tbody tr th {\n",
       "        vertical-align: top;\n",
       "    }\n",
       "\n",
       "    .dataframe thead th {\n",
       "        text-align: right;\n",
       "    }\n",
       "</style>\n",
       "<table border=\"1\" class=\"dataframe\">\n",
       "  <thead>\n",
       "    <tr style=\"text-align: right;\">\n",
       "      <th></th>\n",
       "      <th>c1</th>\n",
       "      <th>c2</th>\n",
       "    </tr>\n",
       "  </thead>\n",
       "  <tbody>\n",
       "    <tr>\n",
       "      <th>0</th>\n",
       "      <td>550117.142000</td>\n",
       "      <td>1.433739e+06</td>\n",
       "    </tr>\n",
       "    <tr>\n",
       "      <th>1</th>\n",
       "      <td>464869.275879</td>\n",
       "      <td>1.084489e+06</td>\n",
       "    </tr>\n",
       "    <tr>\n",
       "      <th>2</th>\n",
       "      <td>470897.382277</td>\n",
       "      <td>9.734317e+05</td>\n",
       "    </tr>\n",
       "    <tr>\n",
       "      <th>3</th>\n",
       "      <td>483914.409173</td>\n",
       "      <td>8.959346e+05</td>\n",
       "    </tr>\n",
       "    <tr>\n",
       "      <th>4</th>\n",
       "      <td>489216.071003</td>\n",
       "      <td>8.651283e+05</td>\n",
       "    </tr>\n",
       "    <tr>\n",
       "      <th>5</th>\n",
       "      <td>487629.668550</td>\n",
       "      <td>8.458466e+05</td>\n",
       "    </tr>\n",
       "    <tr>\n",
       "      <th>6</th>\n",
       "      <td>483711.923214</td>\n",
       "      <td>8.272196e+05</td>\n",
       "    </tr>\n",
       "    <tr>\n",
       "      <th>7</th>\n",
       "      <td>475330.773493</td>\n",
       "      <td>8.035903e+05</td>\n",
       "    </tr>\n",
       "    <tr>\n",
       "      <th>8</th>\n",
       "      <td>474871.238846</td>\n",
       "      <td>7.560395e+05</td>\n",
       "    </tr>\n",
       "    <tr>\n",
       "      <th>9</th>\n",
       "      <td>457232.920115</td>\n",
       "      <td>7.173329e+05</td>\n",
       "    </tr>\n",
       "    <tr>\n",
       "      <th>10</th>\n",
       "      <td>447494.386197</td>\n",
       "      <td>6.945879e+05</td>\n",
       "    </tr>\n",
       "    <tr>\n",
       "      <th>11</th>\n",
       "      <td>450915.012577</td>\n",
       "      <td>6.844445e+05</td>\n",
       "    </tr>\n",
       "    <tr>\n",
       "      <th>12</th>\n",
       "      <td>451250.367073</td>\n",
       "      <td>6.745747e+05</td>\n",
       "    </tr>\n",
       "    <tr>\n",
       "      <th>13</th>\n",
       "      <td>451974.595540</td>\n",
       "      <td>6.674095e+05</td>\n",
       "    </tr>\n",
       "    <tr>\n",
       "      <th>14</th>\n",
       "      <td>451570.364070</td>\n",
       "      <td>6.635566e+05</td>\n",
       "    </tr>\n",
       "    <tr>\n",
       "      <th>15</th>\n",
       "      <td>452739.011366</td>\n",
       "      <td>6.601628e+05</td>\n",
       "    </tr>\n",
       "    <tr>\n",
       "      <th>16</th>\n",
       "      <td>453082.730287</td>\n",
       "      <td>6.560413e+05</td>\n",
       "    </tr>\n",
       "    <tr>\n",
       "      <th>17</th>\n",
       "      <td>450583.670860</td>\n",
       "      <td>6.530368e+05</td>\n",
       "    </tr>\n",
       "    <tr>\n",
       "      <th>18</th>\n",
       "      <td>450368.749317</td>\n",
       "      <td>6.511124e+05</td>\n",
       "    </tr>\n",
       "    <tr>\n",
       "      <th>19</th>\n",
       "      <td>449011.363726</td>\n",
       "      <td>6.496890e+05</td>\n",
       "    </tr>\n",
       "  </tbody>\n",
       "</table>\n",
       "</div>"
      ],
      "text/plain": [
       "               c1            c2\n",
       "0   550117.142000  1.433739e+06\n",
       "1   464869.275879  1.084489e+06\n",
       "2   470897.382277  9.734317e+05\n",
       "3   483914.409173  8.959346e+05\n",
       "4   489216.071003  8.651283e+05\n",
       "5   487629.668550  8.458466e+05\n",
       "6   483711.923214  8.272196e+05\n",
       "7   475330.773493  8.035903e+05\n",
       "8   474871.238846  7.560395e+05\n",
       "9   457232.920115  7.173329e+05\n",
       "10  447494.386197  6.945879e+05\n",
       "11  450915.012577  6.844445e+05\n",
       "12  451250.367073  6.745747e+05\n",
       "13  451974.595540  6.674095e+05\n",
       "14  451570.364070  6.635566e+05\n",
       "15  452739.011366  6.601628e+05\n",
       "16  453082.730287  6.560413e+05\n",
       "17  450583.670860  6.530368e+05\n",
       "18  450368.749317  6.511124e+05\n",
       "19  449011.363726  6.496890e+05"
      ]
     },
     "execution_count": 95,
     "metadata": {},
     "output_type": "execute_result"
    }
   ],
   "source": [
    "# import pandas as pd\n",
    "# from pandas import DataFrame\n",
    "# mandf = pd.DataFrame(c1cost)\n",
    "# mandf['c1'] = man_c1cost\n",
    "# mandf['c2'] = man_c2cost\n",
    "# mandf = mandf.drop([0],axis = 1)\n",
    "# mandf"
   ]
  },
  {
   "cell_type": "code",
   "execution_count": 106,
   "id": "8753cfa4",
   "metadata": {},
   "outputs": [
    {
     "data": {
      "text/plain": [
       "<matplotlib.legend.Legend at 0x10ce587b8>"
      ]
     },
     "execution_count": 106,
     "metadata": {},
     "output_type": "execute_result"
    },
    {
     "data": {
      "image/png": "[encoded data removed]",
      "text/plain": [
       "<Figure size 432x288 with 1 Axes>"
      ]
     },
     "metadata": {
      "needs_background": "light"
     },
     "output_type": "display_data"
    }
   ],
   "source": [
    "# import matplotlib.pyplot as plt\n",
    "# plt.plot(df[['c1', 'c2']])\n",
    "# plt.legend(['c1','c2'], loc='upper right')"
   ]
  },
  {
   "cell_type": "code",
   "execution_count": 105,
   "id": "7d47fd74",
   "metadata": {},
   "outputs": [
    {
     "data": {
      "text/plain": [
       "<matplotlib.legend.Legend at 0x137818b38>"
      ]
     },
     "execution_count": 105,
     "metadata": {},
     "output_type": "execute_result"
    },
    {
     "data": {
      "image/png": "[encoded data removed]",
      "text/plain": [
       "<Figure size 432x288 with 1 Axes>"
      ]
     },
     "metadata": {
      "needs_background": "light"
     },
     "output_type": "display_data"
    }
   ],
   "source": [
    "# plt.plot(mandf[['c1', 'c2']])\n",
    "# plt.legend(['c1','c2'], loc='upper right')"
   ]
  },
  {
   "cell_type": "code",
   "execution_count": 93,
   "id": "7c46993e",
   "metadata": {},
   "outputs": [],
   "source": [
    "man_c1cost = [\n",
    "550117.1420000045,\n",
    "464869.27587929845,\n",
    "470897.3822772998,\n",
    "483914.40917334514,\n",
    "489216.0710034315,\n",
    "487629.6685499822,\n",
    "483711.9232137478,\n",
    "475330.7734932305,\n",
    "474871.2388463643,\n",
    "457232.92011507344,\n",
    "447494.38619734696,\n",
    "450915.0125766772,\n",
    "451250.3670725656,\n",
    "451974.5955397487,\n",
    "451570.3640699583,\n",
    "452739.0113664558,\n",
    "453082.7302871829,\n",
    "450583.67086030025,\n",
    "450368.7493167392,\n",
    "449011.3637255198\n",
    "]"
   ]
  },
  {
   "cell_type": "code",
   "execution_count": 136,
   "id": "23d2e603",
   "metadata": {},
   "outputs": [],
   "source": [
    "man_c2cost = [\n",
    "1433739.3099999938,\n",
    "1084488.7769648738,\n",
    "973431.7146620394,\n",
    "895934.5925630673,\n",
    "865128.3352940796,\n",
    "845846.6470313473,\n",
    "827219.5827561237,\n",
    "803590.3456011107,\n",
    "756039.5172761244,\n",
    "717332.9025432297,\n",
    "694587.9252526843,\n",
    "684444.5019967925,\n",
    "674574.7475478566,\n",
    "667409.469916026,\n",
    "663556.6278214998,\n",
    "660162.777228758,\n",
    "656041.3222947085,\n",
    "653036.7540731638,\n",
    "651112.4262522653,\n",
    "649689.0131843556\n",
    "]"
   ]
  },
  {
   "cell_type": "code",
   "execution_count": 19,
   "id": "39e8fd1b",
   "metadata": {},
   "outputs": [],
   "source": [
    "c2cost = [\n",
    "438747790.027918,\n",
    "249803933.62600294,\n",
    "194494814.40631393,\n",
    "169804841.45154336,\n",
    "156295748.80627596,\n",
    "149094208.10896608,\n",
    "142508531.61961588,\n",
    "132303869.40653005,\n",
    "117170969.83719078,\n",
    "108547377.17857017,\n",
    "102237203.31799614,\n",
    "98278015.74975717,\n",
    "95630226.12177444,\n",
    "93793314.05119292,\n",
    "92377131.96821108,\n",
    "91541606.25423913,\n",
    "91045573.8304242,\n",
    "90752240.10140836,\n",
    "90470170.18122767,\n",
    "90216416.17563146\n",
    "]"
   ]
  },
  {
   "cell_type": "code",
   "execution_count": 20,
   "id": "f179107f",
   "metadata": {},
   "outputs": [],
   "source": [
    "c1cost = [\n",
    "623660345.3064235,\n",
    "509862908.29754597,\n",
    "485480681.8720084,\n",
    "463997011.6850107,\n",
    "460969266.57299405,\n",
    "460537847.98277014,\n",
    "460313099.65354246,\n",
    "460003523.88940686,\n",
    "459570539.3177354,\n",
    "459021103.3422901,\n",
    "458490656.1919808,\n",
    "457944232.5879742,\n",
    "457558005.1986796,\n",
    "457290136.3523032,\n",
    "457050555.0595639,\n",
    "456892235.61535746,\n",
    "456703630.7370357,\n",
    "456404203.0189769,\n",
    "456177800.54199505,\n",
    "455986871.02734846\n",
    "]"
   ]
  },
  {
   "cell_type": "code",
   "execution_count": 101,
   "id": "14376195",
   "metadata": {},
   "outputs": [
    {
     "data": {
      "text/plain": [
       "0.26885383292518295"
      ]
     },
     "execution_count": 101,
     "metadata": {},
     "output_type": "execute_result"
    }
   ],
   "source": [
    "c1_percentage_improvement = abs(455986871.02734846-623660345.3064235)/623660345.3064235\n",
    "c1_percentage_improvement"
   ]
  },
  {
   "cell_type": "code",
   "execution_count": 102,
   "id": "b9e05fc5",
   "metadata": {},
   "outputs": [
    {
     "data": {
      "text/plain": [
       "0.7943775029159899"
      ]
     },
     "execution_count": 102,
     "metadata": {},
     "output_type": "execute_result"
    }
   ],
   "source": [
    "c2_percentage_improvement = abs(90216416.17563146-438747790.027918)/438747790.027918\n",
    "c2_percentage_improvement"
   ]
  },
  {
   "cell_type": "code",
   "execution_count": 121,
   "id": "b7bd5620",
   "metadata": {},
   "outputs": [
    {
     "data": {
      "text/plain": [
       "0.18378954327237434"
      ]
     },
     "execution_count": 121,
     "metadata": {},
     "output_type": "execute_result"
    }
   ],
   "source": [
    "c1_percentage_improvement = abs(449011.3637255198-550117.1420000045)/550117.1420000045\n",
    "c1_percentage_improvement"
   ]
  },
  {
   "cell_type": "code",
   "execution_count": 122,
   "id": "e2696137",
   "metadata": {},
   "outputs": [
    {
     "data": {
      "text/plain": [
       "0.5468569434813374"
      ]
     },
     "execution_count": 122,
     "metadata": {},
     "output_type": "execute_result"
    }
   ],
   "source": [
    "c2_percentage_improvement = abs(649689.0131843556-1433739.3099999938)/1433739.3099999938\n",
    "c2_percentage_improvement"
   ]
  },
  {
   "cell_type": "code",
   "execution_count": null,
   "id": "2a8d8f72",
   "metadata": {},
   "outputs": [],
   "source": []
  }
 ],
 "metadata": {
  "kernelspec": {
   "display_name": "Python 3",
   "language": "python",
   "name": "python3"
  },
  "language_info": {
   "codemirror_mode": {
    "name": "ipython",
    "version": 3
   },
   "file_extension": ".py",
   "mimetype": "text/x-python",
   "name": "python",
   "nbconvert_exporter": "python",
   "pygments_lexer": "ipython3",
   "version": "3.6.5"
  }
 },
 "nbformat": 4,
 "nbformat_minor": 5
}
