{
 "cells": [
  {
   "cell_type": "code",
   "execution_count": 1,
   "id": "d1e974eb",
   "metadata": {},
   "outputs": [],
   "source": [
    "from pyspark import SparkConf , SparkContext"
   ]
  },
  {
   "cell_type": "code",
   "execution_count": 2,
   "id": "f2a0d17c",
   "metadata": {},
   "outputs": [
    {
     "data": {
      "text/html": [
       "\n",
       "        <div>\n",
       "            <p><b>SparkContext</b></p>\n",
       "\n",
       "            <p><a href=\"http://172.20.10.2:4040\">Spark UI</a></p>\n",
       "\n",
       "            <dl>\n",
       "              <dt>Version</dt>\n",
       "                <dd><code>v3.1.2</code></dd>\n",
       "              <dt>Master</dt>\n",
       "                <dd><code>local</code></dd>\n",
       "              <dt>AppName</dt>\n",
       "                <dd><code>wordcount</code></dd>\n",
       "            </dl>\n",
       "        </div>\n",
       "        "
      ],
      "text/plain": [
       "<SparkContext master=local appName=wordcount>"
      ]
     },
     "execution_count": 2,
     "metadata": {},
     "output_type": "execute_result"
    }
   ],
   "source": [
    "sc.stop()\n",
    "conf = SparkConf().setMaster(\"local\").setAppName(\"wordcount\")\n",
    "sc = SparkContext(conf = conf)\n",
    "sc"
   ]
  },
  {
   "cell_type": "code",
   "execution_count": 3,
   "id": "8575362e",
   "metadata": {},
   "outputs": [],
   "source": [
    "def mapper1try(line):\n",
    "        wordlist = line.split(\" \")\n",
    "        newitem = []\n",
    "        maplist = []\n",
    "\n",
    "        for item in wordlist:\n",
    "\n",
    "                c = item.split(\",\")\n",
    "   \n",
    "                for unit in c:\n",
    "\n",
    "                    if unit=='M':\n",
    "                           pass\n",
    "                    elif unit=='N':\n",
    "                           pass\n",
    "                    else:    \n",
    "                            \n",
    "                            unit = int(unit)\n",
    "                            \n",
    "                    newitem.append(unit)\n",
    "               \n",
    "                 \n",
    "                maplist.append(((newitem[1],newitem[2],newitem[3])))\n",
    "                \n",
    "    \n",
    "        \n",
    "            \n",
    "        return maplist"
   ]
  },
  {
   "cell_type": "code",
   "execution_count": 4,
   "id": "cddb99d1",
   "metadata": {},
   "outputs": [],
   "source": [
    "def mapper2try(line):\n",
    "        wordlist = line.split(\" \")\n",
    "        newitem = []\n",
    "        naplist = []\n",
    "\n",
    "        for item in wordlist:\n",
    "\n",
    "                c = item.split(\",\")\n",
    "   \n",
    "                for unit in c:\n",
    "\n",
    "                    if unit=='M':\n",
    "                           pass\n",
    "                    elif unit=='N':\n",
    "                           pass\n",
    "                    else:    \n",
    "                            \n",
    "                            unit = int(unit)\n",
    "                            \n",
    "                    newitem.append(unit)\n",
    "               \n",
    "                 \n",
    "                naplist.append(((newitem[2],newitem[1],newitem[3])))\n",
    "                \n",
    "    \n",
    "        \n",
    "            \n",
    "        return naplist"
   ]
  },
  {
   "cell_type": "code",
   "execution_count": 6,
   "id": "508f3038",
   "metadata": {},
   "outputs": [
    {
     "name": "stdout",
     "output_type": "stream",
     "text": [
      "[(0, 10), (1, 0), (2, 20), (0, 0), (1, 30), (2, 0), (0, 40), (1, 0), (2, 50)]\n"
     ]
    }
   ],
   "source": [
    "lines1 = sc.textFile(\"/Users/huangyushu/Desktop/input.txt\").flatMap(mapper1try)\n",
    "\n",
    "lines1=lines1.map(lambda x:(x[1],x[2]))#只取jv\n",
    "lines1 = lines1.take(250000)\n",
    "lines1= sc.parallelize(lines1)\n",
    "\n",
    "print(lines1.collect())"
   ]
  },
  {
   "cell_type": "code",
   "execution_count": 7,
   "id": "37ac39e3",
   "metadata": {},
   "outputs": [
    {
     "name": "stdout",
     "output_type": "stream",
     "text": [
      "[(0, 1), (0, 2), (0, 3), (1, 4), (1, 5), (1, 0), (2, 6), (2, 7), (2, 8)]\n"
     ]
    }
   ],
   "source": [
    "lines2 = sc.textFile(\"/Users/huangyushu/Desktop/input.txt\").flatMap(mapper2try)\n",
    "\n",
    "lines2=lines2.map(lambda x:(x[1],x[2]))#只取jv\n",
    "lines2 = lines2.collect()[250000:500000]\n",
    "lines2= sc.parallelize(lines2)\n",
    "print(lines2.collect())"
   ]
  },
  {
   "cell_type": "code",
   "execution_count": 8,
   "id": "ff87db15",
   "metadata": {},
   "outputs": [
    {
     "name": "stdout",
     "output_type": "stream",
     "text": [
      "[(0, (10, 1)), (0, (10, 2)), (0, (10, 3)), (0, (0, 1)), (0, (0, 2)), (0, (0, 3)), (0, (40, 1)), (0, (40, 2)), (0, (40, 3)), (2, (20, 6)), (2, (20, 7)), (2, (20, 8)), (2, (0, 6)), (2, (0, 7)), (2, (0, 8)), (2, (50, 6)), (2, (50, 7)), (2, (50, 8)), (1, (0, 4)), (1, (0, 5)), (1, (0, 0)), (1, (30, 4)), (1, (30, 5)), (1, (30, 0)), (1, (0, 4)), (1, (0, 5)), (1, (0, 0))]\n"
     ]
    }
   ],
   "source": [
    "lines3 = lines1.join(lines2)#同j的v包一起\n",
    "print(lines3.collect())"
   ]
  },
  {
   "cell_type": "code",
   "execution_count": 9,
   "id": "11f82f65",
   "metadata": {},
   "outputs": [
    {
     "name": "stdout",
     "output_type": "stream",
     "text": [
      "[10, 20, 30, 0, 0, 0, 40, 80, 120, 120, 140, 160, 0, 0, 0, 300, 350, 400, 0, 0, 0, 120, 150, 0, 0, 0, 0]\n"
     ]
    }
   ],
   "source": [
    "lines3 = lines3.values()\n",
    "lines3 = lines3.map(lambda x:(x[0]*x[1]))#同j的v相乘，有n^3項\n",
    "print(lines3.collect())"
   ]
  },
  {
   "cell_type": "code",
   "execution_count": 12,
   "id": "3d748647",
   "metadata": {},
   "outputs": [
    {
     "name": "stdout",
     "output_type": "stream",
     "text": [
      "[[10, 20, 30, 0, 0, 0, 40, 80, 120], [120, 140, 160, 0, 0, 0, 300, 350, 400], [0, 0, 0, 120, 150, 0, 0, 0, 0]]\n"
     ]
    }
   ],
   "source": [
    "lines3 = sc.parallelize(lines3.collect(),500).glom()#分成500等分，每份的第n項相加起來是新矩陣的第1~250000項\n",
    "print(lines3.collect())"
   ]
  },
  {
   "cell_type": "code",
   "execution_count": 13,
   "id": "e1453374",
   "metadata": {},
   "outputs": [
    {
     "name": "stdout",
     "output_type": "stream",
     "text": [
      "130\n",
      "160\n",
      "190\n",
      "120\n",
      "150\n",
      "0\n",
      "340\n",
      "430\n",
      "520\n"
     ]
    }
   ],
   "source": [
    "path = '/Users/huangyushu/Desktop/Outputfile.txt'\n",
    "data=open(path,'w+') \n",
    "tmp=0\n",
    "for i in range(0,250000):\n",
    "    for n in range(0,500):\n",
    "         tmp+=lines3.collect()[n][i]\n",
    "    print(str(i),str(tmp),file=data)#輸出形式為(i v) i:(0~249999)0->(0,0))2->0,1......249999->(499,499) v:value\n",
    "    tmp=0\n",
    "data.close()"
   ]
  },
  {
   "cell_type": "code",
   "execution_count": null,
   "id": "f60fbc58",
   "metadata": {},
   "outputs": [],
   "source": []
  }
 ],
 "metadata": {
  "kernelspec": {
   "display_name": "Python 3",
   "language": "python",
   "name": "python3"
  },
  "language_info": {
   "codemirror_mode": {
    "name": "ipython",
    "version": 3
   },
   "file_extension": ".py",
   "mimetype": "text/x-python",
   "name": "python",
   "nbconvert_exporter": "python",
   "pygments_lexer": "ipython3",
   "version": "3.6.5"
  }
 },
 "nbformat": 4,
 "nbformat_minor": 5
}
