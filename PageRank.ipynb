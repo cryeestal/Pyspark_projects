{
 "cells": [
  {
   "cell_type": "code",
   "execution_count": 16,
   "id": "6a3c1545",
   "metadata": {},
   "outputs": [],
   "source": [
    "from pyspark import SparkConf , SparkContext"
   ]
  },
  {
   "cell_type": "code",
   "execution_count": 17,
   "id": "48c887ed",
   "metadata": {},
   "outputs": [
    {
     "data": {
      "text/html": [
       "\n",
       "        <div>\n",
       "            <p><b>SparkContext</b></p>\n",
       "\n",
       "            <p><a href=\"http://huangyushude-macbook-pro.local:4040\">Spark UI</a></p>\n",
       "\n",
       "            <dl>\n",
       "              <dt>Version</dt>\n",
       "                <dd><code>v3.1.2</code></dd>\n",
       "              <dt>Master</dt>\n",
       "                <dd><code>local</code></dd>\n",
       "              <dt>AppName</dt>\n",
       "                <dd><code>wordcount</code></dd>\n",
       "            </dl>\n",
       "        </div>\n",
       "        "
      ],
      "text/plain": [
       "<SparkContext master=local appName=wordcount>"
      ]
     },
     "execution_count": 17,
     "metadata": {},
     "output_type": "execute_result"
    }
   ],
   "source": [
    "sc.stop()\n",
    "conf = SparkConf().setMaster(\"local\").setAppName(\"wordcount\")\n",
    "sc = SparkContext(conf = conf)\n",
    "sc"
   ]
  },
  {
   "cell_type": "markdown",
   "id": "65c0da1b",
   "metadata": {},
   "source": [
    "input 點跟pagerank作為(key,value)，用tab分開"
   ]
  },
  {
   "cell_type": "code",
   "execution_count": 18,
   "id": "6fb70266",
   "metadata": {},
   "outputs": [],
   "source": [
    "def mapper1try(line):\n",
    "        wordlist = line.split(\" \")\n",
    "        newitem = []\n",
    "        maplist = []\n",
    "\n",
    "        for item in wordlist:\n",
    "                c = item.split(\"\\t\")\n",
    "                for unit in c:\n",
    "                    unit = int(unit)\n",
    "                    newitem.append(unit)\n",
    "\n",
    "                maplist.append((newitem[0],newitem[1]))\n",
    "        return maplist"
   ]
  },
  {
   "cell_type": "markdown",
   "id": "65669062",
   "metadata": {},
   "source": [
    "mapreduce,再將同個點會連到的點map成lines2，原本的key成為lines3"
   ]
  },
  {
   "cell_type": "code",
   "execution_count": 19,
   "id": "f7d2850e",
   "metadata": {},
   "outputs": [
    {
     "name": "stdout",
     "output_type": "stream",
     "text": [
      "[[2, 3], [4], [1, 4, 5], [1, 4]]\n",
      "[1, 2, 3, 5]\n"
     ]
    }
   ],
   "source": [
    "lines1 = sc.textFile(\"/Users/huangyushu/Desktop/in.txt\").flatMap(mapper1try)\n",
    "lines2 = lines1.groupByKey().map(lambda x : (list(x[1])))\n",
    "lines3 = lines1.map(lambda x : (x[0]))\n",
    "lines3 = lines3.distinct()\n",
    "print(lines2.collect())\n",
    "print(lines3.collect())"
   ]
  },
  {
   "cell_type": "markdown",
   "id": "ee97579a",
   "metadata": {},
   "source": [
    "這裡用到達的點中的最大值作為點的數量的上標，因為可以有deadend所以要用可到達的最大點index作為max"
   ]
  },
  {
   "cell_type": "code",
   "execution_count": 20,
   "id": "1700a9bd",
   "metadata": {},
   "outputs": [
    {
     "name": "stdout",
     "output_type": "stream",
     "text": [
      "[(1, 3), (2, 4), (3, 5), (5, 4)]\n"
     ]
    },
    {
     "data": {
      "text/plain": [
       "5"
      ]
     },
     "execution_count": 20,
     "metadata": {},
     "output_type": "execute_result"
    }
   ],
   "source": [
    "try1 = lines1.reduceByKey(max)\n",
    "print(try1.collect())\n",
    "try1 = try1.max(lambda x:x[1])\n",
    "try1[1]"
   ]
  },
  {
   "cell_type": "markdown",
   "id": "d9ec0565",
   "metadata": {},
   "source": [
    "這裡用到達的點中的最大值作為點的數量的下標，因為可以有deadend所以要用可到達的最小點index作為min"
   ]
  },
  {
   "cell_type": "code",
   "execution_count": 21,
   "id": "d7f68b33",
   "metadata": {},
   "outputs": [
    {
     "name": "stdout",
     "output_type": "stream",
     "text": [
      "[(1, 2), (2, 4), (3, 1), (5, 1)]\n"
     ]
    },
    {
     "data": {
      "text/plain": [
       "1"
      ]
     },
     "execution_count": 21,
     "metadata": {},
     "output_type": "execute_result"
    }
   ],
   "source": [
    "try2 = lines1.reduceByKey(min)\n",
    "print(try2.collect())\n",
    "try2 = try2.min(lambda x:x[1])\n",
    "# try1 = try1.values()\n",
    "try2[1]\n",
    "# type(try1)"
   ]
  },
  {
   "cell_type": "markdown",
   "id": "0e9603ca",
   "metadata": {},
   "source": [
    "pagerank matrix 中：\n",
    "總數\n",
    "beta值\n",
    "後面常數項"
   ]
  },
  {
   "cell_type": "code",
   "execution_count": 22,
   "id": "af7a13af",
   "metadata": {},
   "outputs": [],
   "source": [
    "n = try1[1]-try2[1]+1\n",
    "beta = 0.8\n",
    "dump = (1-beta)/n"
   ]
  },
  {
   "cell_type": "markdown",
   "id": "ad6fd4db",
   "metadata": {},
   "source": [
    "mapper:將每筆資料裡面的每個子項依序標數字n次\n",
    "mapkey:將每筆資料標數字n次\n",
    "mapone:將資料變成key為1之value"
   ]
  },
  {
   "cell_type": "code",
   "execution_count": 23,
   "id": "9bec6f28",
   "metadata": {},
   "outputs": [],
   "source": [
    "def mapper(line):\n",
    "    map = []\n",
    "    mapkey = []\n",
    "    for i in range(n):\n",
    "        map.append((i,line[i]))  \n",
    "    return map"
   ]
  },
  {
   "cell_type": "code",
   "execution_count": 24,
   "id": "200f2d0b",
   "metadata": {},
   "outputs": [],
   "source": [
    "def mapkey(line):\n",
    "    map = []\n",
    "    mapkey = []\n",
    "    for i in range(n):\n",
    "        map.append((i,line))  \n",
    "    return map"
   ]
  },
  {
   "cell_type": "code",
   "execution_count": 25,
   "id": "d1ae68d7",
   "metadata": {},
   "outputs": [],
   "source": [
    "def mapone(line):\n",
    "    map = []\n",
    "    map.append((1,line))  \n",
    "    return map"
   ]
  },
  {
   "cell_type": "markdown",
   "id": "fbca40c3",
   "metadata": {},
   "source": [
    "用兩個rdd做出n x n的rdd，adj與key對應到在matrix的哪個位置 i,j = (點,到達的點) 應該設什麼val，也就是這個點的父點之1/out degree"
   ]
  },
  {
   "cell_type": "code",
   "execution_count": 26,
   "id": "f77d76cf",
   "metadata": {},
   "outputs": [
    {
     "data": {
      "text/plain": [
       "[([2, 3], 1), ([4], 2), ([1, 4, 5], 3), ([1, 4], 5)]"
      ]
     },
     "execution_count": 26,
     "metadata": {},
     "output_type": "execute_result"
    }
   ],
   "source": [
    "lines = lines2.zip(lines3)\n",
    "lines.collect()"
   ]
  },
  {
   "cell_type": "code",
   "execution_count": 27,
   "id": "3b33c1f8",
   "metadata": {},
   "outputs": [],
   "source": [
    "def create(adj,key):\n",
    "    adj = adj.collect()\n",
    "    key = key.collect()\n",
    "    matrix = [[0 for _ in range(n)] for _ in range(n)]\n",
    "    for col, line in enumerate(adj):\n",
    "        for index in line:\n",
    "            matrix[index-try2[1]][key[col]-try2[1]] = 1/(len(line))\n",
    "    return matrix"
   ]
  },
  {
   "cell_type": "markdown",
   "id": "0e987b02",
   "metadata": {},
   "source": [
    "將要相乘的兩個rdd傳入，分別攤平後以以key排序，變成nxn比相對應的資料再zip起來，做相乘計算後跟排序好的key再合併，直接做mapreduce將值sum求出\n",
    "完成兩個rdd矩陣相乘"
   ]
  },
  {
   "cell_type": "code",
   "execution_count": 28,
   "id": "f2726eb5",
   "metadata": {},
   "outputs": [],
   "source": [
    "def multiply(na,l):\n",
    "    l = l.flatMap(mapkey)\n",
    "    l = l.sortByKey()\n",
    "    l = l.values()\n",
    "    \n",
    "    na2 = na.flatMap(mapper)\n",
    "    na3 = na2.sortByKey()\n",
    "    na3 = na3.keys()\n",
    "    na2 = na2.values()\n",
    "    na2 = na2.zip(l)\n",
    "    \n",
    "    na2 = na2.map(lambda x:(x[0]*x[1]))\n",
    "    na2 = na3.zip(na2)\n",
    "    \n",
    "    na2 = na2.reduceByKey(lambda x,y:(x+y))\n",
    "    na2 = na2.values()\n",
    "    return na2"
   ]
  },
  {
   "cell_type": "code",
   "execution_count": 29,
   "id": "4c400e75",
   "metadata": {},
   "outputs": [],
   "source": [
    "ma = create(lines2,lines3)"
   ]
  },
  {
   "cell_type": "code",
   "execution_count": 30,
   "id": "cf774b47",
   "metadata": {},
   "outputs": [],
   "source": [
    "ma = sc.parallelize(ma)"
   ]
  },
  {
   "cell_type": "markdown",
   "id": "cb6c27c8",
   "metadata": {},
   "source": [
    "這裡算出A矩陣na ＝bm+(1-b)*1/n，相乘的方法同上面的map"
   ]
  },
  {
   "cell_type": "code",
   "execution_count": 31,
   "id": "9c50a8c0",
   "metadata": {},
   "outputs": [],
   "source": [
    "ma = ma.flatMap(mapper)"
   ]
  },
  {
   "cell_type": "code",
   "execution_count": 32,
   "id": "b3d3daa9",
   "metadata": {},
   "outputs": [],
   "source": [
    "sol = ma.sortByKey()\n",
    "sol = sol.keys()"
   ]
  },
  {
   "cell_type": "code",
   "execution_count": 33,
   "id": "1d6f9316",
   "metadata": {},
   "outputs": [],
   "source": [
    "na = ma.map(lambda x:(x[1]*beta+dump))"
   ]
  },
  {
   "cell_type": "code",
   "execution_count": 34,
   "id": "69fbd38b",
   "metadata": {},
   "outputs": [],
   "source": [
    "na = sol.zip(na)"
   ]
  },
  {
   "cell_type": "code",
   "execution_count": 35,
   "id": "69b5b928",
   "metadata": {},
   "outputs": [],
   "source": [
    "na = na.groupByKey().map(lambda x : (list(x[1])))"
   ]
  },
  {
   "cell_type": "markdown",
   "id": "83007e8a",
   "metadata": {},
   "source": [
    "初始pagerank value：1/n"
   ]
  },
  {
   "cell_type": "code",
   "execution_count": 36,
   "id": "e1eaaaf1",
   "metadata": {},
   "outputs": [],
   "source": [
    "v2 = [(1/n) for _ in range(n)] \n",
    "v2 = sc.parallelize(v2)"
   ]
  },
  {
   "cell_type": "markdown",
   "id": "e440c9da",
   "metadata": {},
   "source": [
    "20iterations，有deadend:r = r + (1-s/n)"
   ]
  },
  {
   "cell_type": "code",
   "execution_count": 37,
   "id": "2071e957",
   "metadata": {},
   "outputs": [
    {
     "name": "stdout",
     "output_type": "stream",
     "text": [
      "[0.20533333333333334, 0.152, 0.152, 0.3653333333333334, 0.12533333333333332]\n",
      "[0.18911999999999998, 0.18058666666666667, 0.18058666666666667, 0.31072, 0.13898666666666665]\n",
      "[0.19346631111111112, 0.1653632, 0.1653632, 0.33793564444444446, 0.13787164444444444]\n",
      "[0.19331521422222223, 0.17145622755555556, 0.17145622755555556, 0.32560577422222226, 0.13816655644444445]\n",
      "[0.1930852071348148, 0.16942300956444442, 0.16942300956444442, 0.33025018917925925, 0.137818584557037]\n",
      "[0.1931469333086815, 0.17007411312260745, 0.17007411312260745, 0.328685340960237, 0.13801949948586667]\n",
      "[0.1931505511806799, 0.16984842787711052, 0.16984842787711052, 0.32920984167876594, 0.13794275138633325]\n",
      "[0.19314358932369863, 0.16993379514087448, 0.16993379514087448, 0.329022331625387, 0.13796648876916534]\n",
      "[0.19314584727196127, 0.1699010087895414, 0.1699010087895414, 0.32909288338466086, 0.13795925176429513]\n",
      "[0.1931454977244748, 0.16991320025033024, 0.16991320025033024, 0.32906630475610793, 0.13796179701875677]\n",
      "[0.19314551430190136, 0.1699088078507672, 0.1699088078507672, 0.3290760745021656, 0.13796079549439866]\n",
      "[0.19314550554497723, 0.16991037764110703, 0.16991037764110703, 0.329072551825591, 0.13796118734721774]\n",
      "[0.1931455172686102, 0.16990981051008544, 0.16990981051008544, 0.3290738193814959, 0.1379610423297231]\n",
      "[0.193145510835618, 0.16991001800848343, 0.16991001800848343, 0.3290733592436864, 0.1379610939037288]\n",
      "[0.1931455131760769, 0.16990994181323701, 0.16990994181323701, 0.3290735275828636, 0.13796107561458537]\n",
      "[0.19314551247595552, 0.16990996968368893, 0.16990996968368893, 0.32907346592654513, 0.13796108223012138]\n",
      "[0.1931455126892795, 0.16990995953862945, 0.16990995953862945, 0.32907348843623063, 0.13796107979723093]\n",
      "[0.19314551261232377, 0.16990996322550872, 0.16990996322550872, 0.32907348024322736, 0.1379610806934314]\n",
      "[0.19314551264309127, 0.16990996188384588, 0.16990996188384588, 0.3290734832234982, 0.1379610803657187]\n",
      "[0.19314551263107277, 0.16990996237299621, 0.16990996237299621, 0.32907348213814946, 0.13796108048478528]\n"
     ]
    }
   ],
   "source": [
    "    for i in range(20):\n",
    "        \n",
    "        a = []\n",
    "        v1 = v2\n",
    "        v2 = multiply(na,v1)\n",
    "        \n",
    "        s = v2.sum()\n",
    "        v0 = v2.flatMap(mapone)\n",
    "        v0 = v0.map(lambda x:(x[1]+(1-s)/n))\n",
    "        v2 = v0\n",
    "        print(v2.collect())\n"
   ]
  },
  {
   "cell_type": "markdown",
   "id": "1eddeb90",
   "metadata": {},
   "source": [
    "output:用c算出在小數點後幾位開始有數字，四捨五入round到開始有數字的第三位"
   ]
  },
  {
   "cell_type": "code",
   "execution_count": 38,
   "id": "847e0440",
   "metadata": {},
   "outputs": [],
   "source": [
    "    b = []\n",
    "    for item in v2.collect():\n",
    "        c=0\n",
    "        fig = item\n",
    "        while(fig<1):\n",
    "            fig = fig*10\n",
    "            c=c+1\n",
    "        item = round(item,c+2)\n",
    "        b.append(item)\n",
    "        \n",
    "    lines = b"
   ]
  },
  {
   "cell_type": "markdown",
   "id": "ff2b10aa",
   "metadata": {},
   "source": [
    "output print，前面加上vertex"
   ]
  },
  {
   "cell_type": "code",
   "execution_count": 39,
   "id": "e78cc788",
   "metadata": {},
   "outputs": [],
   "source": [
    "ans = []\n",
    "for key, val in enumerate(lines):\n",
    "    ans.append((key+try2[1],val))"
   ]
  },
  {
   "cell_type": "markdown",
   "id": "1c156cf4",
   "metadata": {},
   "source": [
    "排序並寫入outputfile"
   ]
  },
  {
   "cell_type": "code",
   "execution_count": 40,
   "id": "b5f16abd",
   "metadata": {},
   "outputs": [
    {
     "data": {
      "text/plain": [
       "[(4, 0.329), (1, 0.193), (2, 0.17), (3, 0.17), (5, 0.138)]"
      ]
     },
     "execution_count": 40,
     "metadata": {},
     "output_type": "execute_result"
    }
   ],
   "source": [
    "ans = sc.parallelize(ans).sortBy(lambda x: x[1], ascending=False)\n",
    "ans.collect()"
   ]
  },
  {
   "cell_type": "code",
   "execution_count": 41,
   "id": "47e243fe",
   "metadata": {},
   "outputs": [],
   "source": [
    "path = '/Users/huangyushu/Desktop/out.txt'\n",
    "data=open(path,'w+') \n",
    "for i in range(n):\n",
    "        print('%d' % ans.collect()[i][0],'\\t','%f' % ans.collect()[i][1],file=data)\n",
    "data.close()"
   ]
  },
  {
   "cell_type": "code",
   "execution_count": null,
   "id": "ed3ccfcf",
   "metadata": {},
   "outputs": [],
   "source": []
  }
 ],
 "metadata": {
  "kernelspec": {
   "display_name": "Python 3",
   "language": "python",
   "name": "python3"
  },
  "language_info": {
   "codemirror_mode": {
    "name": "ipython",
    "version": 3
   },
   "file_extension": ".py",
   "mimetype": "text/x-python",
   "name": "python",
   "nbconvert_exporter": "python",
   "pygments_lexer": "ipython3",
   "version": "3.6.5"
  }
 },
 "nbformat": 4,
 "nbformat_minor": 5
}
